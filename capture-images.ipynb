{
 "cells": [
  {
   "cell_type": "code",
   "execution_count": 6,
   "id": "7f87da52-dace-467a-9ba1-df83f19acf27",
   "metadata": {},
   "outputs": [],
   "source": [
    "import cv2\n",
    "import os\n",
    "\n",
    "# Create a new directory for the person's name\n",
    "person_name = \"Seii Ley\"\n",
    "data_dir = f\"dataset/{person_name}\"\n",
    "os.makedirs(data_dir, exist_ok=True)\n",
    "\n",
    "# Access webcam\n",
    "cap = cv2.VideoCapture(0)\n",
    "count = 0\n",
    "\n",
    "while True:\n",
    "    ret, frame = cap.read()\n",
    "    if not ret:\n",
    "        break\n",
    "\n",
    "    cv2.imshow(\"Frame\", frame)\n",
    "\n",
    "    # Save frame to dataset\n",
    "    img_name = os.path.join(data_dir, f\"{person_name}_{count}.jpg\")\n",
    "    cv2.imwrite(img_name, frame)\n",
    "    count += 1\n",
    "\n",
    "    # Break the loop after capturing images\n",
    "    if count >= 30:\n",
    "        break\n",
    "\n",
    "    if cv2.waitKey(1) & 0xFF == ord('q'):\n",
    "        break\n",
    "\n",
    "cap.release()\n",
    "cv2.destroyAllWindows()\n"
   ]
  }
 ],
 "metadata": {
  "kernelspec": {
   "display_name": "Python 3 (ipykernel)",
   "language": "python",
   "name": "python3"
  },
  "language_info": {
   "codemirror_mode": {
    "name": "ipython",
    "version": 3
   },
   "file_extension": ".py",
   "mimetype": "text/x-python",
   "name": "python",
   "nbconvert_exporter": "python",
   "pygments_lexer": "ipython3",
   "version": "3.12.2"
  }
 },
 "nbformat": 4,
 "nbformat_minor": 5
}
